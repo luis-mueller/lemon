{
 "cells": [
  {
   "cell_type": "code",
   "execution_count": 2,
   "metadata": {},
   "outputs": [],
   "source": [
    "from lemon.params import parameters\n",
    "from ipywidgets import interact"
   ]
  },
  {
   "cell_type": "code",
   "execution_count": 3,
   "metadata": {},
   "outputs": [],
   "source": [
    "for alpha_param in parameters(name='integrator', param='alpha'):\n",
    "    @interact(alpha=(0.0, 100.0, 0.01))\n",
    "    def update(alpha=alpha_param.initial_value):\n",
    "        return alpha_param.update(alpha)"
   ]
  }
 ],
 "metadata": {
  "kernelspec": {
   "display_name": "Python 3.9.12 ('botanic')",
   "language": "python",
   "name": "python3"
  },
  "language_info": {
   "codemirror_mode": {
    "name": "ipython",
    "version": 3
   },
   "file_extension": ".py",
   "mimetype": "text/x-python",
   "name": "python",
   "nbconvert_exporter": "python",
   "pygments_lexer": "ipython3",
   "version": "3.9.12"
  },
  "orig_nbformat": 4,
  "vscode": {
   "interpreter": {
    "hash": "f6a1e6d999db647003bc35e6788207529f0884d9788f422eecc71665ea11b846"
   }
  }
 },
 "nbformat": 4,
 "nbformat_minor": 2
}
